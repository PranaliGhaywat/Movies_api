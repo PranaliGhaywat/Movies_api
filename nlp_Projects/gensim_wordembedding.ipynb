{
  "nbformat": 4,
  "nbformat_minor": 0,
  "metadata": {
    "colab": {
      "provenance": [],
      "authorship_tag": "ABX9TyNGV3gIMqRfVh0Sn7wZQQ3Z",
      "include_colab_link": true
    },
    "kernelspec": {
      "name": "python3",
      "display_name": "Python 3"
    },
    "language_info": {
      "name": "python"
    }
  },
  "cells": [
    {
      "cell_type": "markdown",
      "metadata": {
        "id": "view-in-github",
        "colab_type": "text"
      },
      "source": [
        "<a href=\"https://colab.research.google.com/github/PranaliGhaywat/Movies_api/blob/main/nlp_Projects/gensim_wordembedding.ipynb\" target=\"_parent\"><img src=\"https://colab.research.google.com/assets/colab-badge.svg\" alt=\"Open In Colab\"/></a>"
      ]
    },
    {
      "cell_type": "code",
      "execution_count": null,
      "metadata": {
        "id": "sEvWtSwzxasC"
      },
      "outputs": [],
      "source": [
        "import gensim"
      ]
    },
    {
      "cell_type": "code",
      "source": [
        "import gensim.downloader as api\n",
        "from gensim.models import Word2Vec"
      ],
      "metadata": {
        "id": "rYhFKwc50P56"
      },
      "execution_count": null,
      "outputs": []
    },
    {
      "cell_type": "code",
      "source": [
        "model = api.load(\"glove-twitter-25\")"
      ],
      "metadata": {
        "colab": {
          "base_uri": "https://localhost:8080/"
        },
        "id": "LNsoFiHq0Yj5",
        "outputId": "5e884ed6-897e-4e66-d03f-bce11739b4b0"
      },
      "execution_count": null,
      "outputs": [
        {
          "output_type": "stream",
          "name": "stdout",
          "text": [
            "[==================================================] 100.0% 104.8/104.8MB downloaded\n"
          ]
        }
      ]
    },
    {
      "cell_type": "code",
      "source": [
        "model['cat']"
      ],
      "metadata": {
        "colab": {
          "base_uri": "https://localhost:8080/"
        },
        "id": "AXSh5IBy0eKh",
        "outputId": "7cea0c67-eb6d-4783-c243-676321e10b12"
      },
      "execution_count": null,
      "outputs": [
        {
          "output_type": "execute_result",
          "data": {
            "text/plain": [
              "array([-0.96419 , -0.60978 ,  0.67449 ,  0.35113 ,  0.41317 , -0.21241 ,\n",
              "        1.3796  ,  0.12854 ,  0.31567 ,  0.66325 ,  0.3391  , -0.18934 ,\n",
              "       -3.325   , -1.1491  , -0.4129  ,  0.2195  ,  0.8706  , -0.50616 ,\n",
              "       -0.12781 , -0.066965,  0.065761,  0.43927 ,  0.1758  , -0.56058 ,\n",
              "        0.13529 ], dtype=float32)"
            ]
          },
          "metadata": {},
          "execution_count": 5
        }
      ]
    },
    {
      "cell_type": "code",
      "source": [
        "model.most_similar(\"time\")"
      ],
      "metadata": {
        "colab": {
          "base_uri": "https://localhost:8080/"
        },
        "id": "BlFetGOJ2OtK",
        "outputId": "dafe1173-da91-4d59-b520-37e7659cfe69"
      },
      "execution_count": null,
      "outputs": [
        {
          "output_type": "execute_result",
          "data": {
            "text/plain": [
              "[('break', 0.9538871645927429),\n",
              " ('way', 0.942317545413971),\n",
              " ('next', 0.9418106079101562),\n",
              " ('take', 0.9326795935630798),\n",
              " ('now', 0.9321372509002686),\n",
              " ('going', 0.9304863810539246),\n",
              " ('maybe', 0.9293893575668335),\n",
              " ('up', 0.9285207986831665),\n",
              " ('work', 0.9283475875854492),\n",
              " ('then', 0.9273959398269653)]"
            ]
          },
          "metadata": {},
          "execution_count": 6
        }
      ]
    },
    {
      "cell_type": "code",
      "source": [
        "model.most_similar(positive=['king', 'woman'], negative=['man'])"
      ],
      "metadata": {
        "colab": {
          "base_uri": "https://localhost:8080/"
        },
        "id": "Nu4hQyDb24z6",
        "outputId": "447f9712-ae8b-4c5e-9e85-5602c1669a54"
      },
      "execution_count": null,
      "outputs": [
        {
          "output_type": "execute_result",
          "data": {
            "text/plain": [
              "[('meets', 0.8841924071311951),\n",
              " ('prince', 0.832163393497467),\n",
              " ('queen', 0.8257461190223694),\n",
              " ('’s', 0.8174097537994385),\n",
              " ('crow', 0.813499391078949),\n",
              " ('hunter', 0.8131037950515747),\n",
              " ('father', 0.8115834593772888),\n",
              " ('soldier', 0.81113600730896),\n",
              " ('mercy', 0.8082392811775208),\n",
              " ('hero', 0.8082264065742493)]"
            ]
          },
          "metadata": {},
          "execution_count": 7
        }
      ]
    },
    {
      "cell_type": "code",
      "source": [
        "words = ['news','cat','Dog']\n",
        "for i in words:\n",
        "  if i in model:\n",
        "    print(\"no\")\n",
        "  else:\n",
        "    print(\"yes\")"
      ],
      "metadata": {
        "colab": {
          "base_uri": "https://localhost:8080/"
        },
        "id": "yvMClAL53Hl4",
        "outputId": "ab63945e-024d-4617-f024-f2feaf4c52e7"
      },
      "execution_count": null,
      "outputs": [
        {
          "output_type": "stream",
          "name": "stdout",
          "text": [
            "no\n",
            "no\n",
            "yes\n"
          ]
        }
      ]
    },
    {
      "cell_type": "code",
      "source": [
        "model.similarity(\"king\",\"queen\")"
      ],
      "metadata": {
        "colab": {
          "base_uri": "https://localhost:8080/"
        },
        "id": "zrtAjMXA3cdR",
        "outputId": "02aa767e-bf9d-4a77-e655-8d7be15e6baa"
      },
      "execution_count": null,
      "outputs": [
        {
          "output_type": "execute_result",
          "data": {
            "text/plain": [
              "0.9202422"
            ]
          },
          "metadata": {},
          "execution_count": 10
        }
      ]
    },
    {
      "cell_type": "code",
      "source": [],
      "metadata": {
        "id": "LZKuYIfo3iYx"
      },
      "execution_count": null,
      "outputs": []
    }
  ]
}